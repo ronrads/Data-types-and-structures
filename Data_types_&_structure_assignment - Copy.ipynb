{
  "nbformat": 4,
  "nbformat_minor": 0,
  "metadata": {
    "colab": {
      "provenance": []
    },
    "kernelspec": {
      "name": "python3",
      "display_name": "Python 3"
    },
    "language_info": {
      "name": "python"
    }
  },
  "cells": [
    {
      "cell_type": "markdown",
      "source": [
        "# DATA TYPES AND STRUCTURES ASSIGNMENT\n"
      ],
      "metadata": {
        "id": "eHg2TmlV80oa"
      }
    },
    {
      "cell_type": "markdown",
      "source": [
        "#Theoritical Questions"
      ],
      "metadata": {
        "id": "iIWsMOU587yi"
      }
    },
    {
      "cell_type": "markdown",
      "source": [
        "# 1. What are data structures, and why are they important?\n",
        "\"Data structures are ways to organize and store data so it can be used efficiently. They are important because they help in managing data easily and improving the performance of programs. Common data structures in Python include lists, dictionaries, tuples, and sets. Choosing the right one makes code faster and easier to understand.\n",
        "\""
      ],
      "metadata": {
        "id": "zrX2DMDU9Cma"
      }
    },
    {
      "cell_type": "markdown",
      "source": [
        "#2. Explain the difference between mutable and immutable data types with examples?\n",
        "\"Mutable data types can be changed after creation, while immutable ones cannot be modified once created.\n",
        "Examples of mutable types: list, dict, set (e.g., my_list.append(5)). Examples of immutable types: int, str, tuple (e.g., strings can't be changed directly).\n",
        "This affects how data behaves when passed to functions or modified.\n",
        "\""
      ],
      "metadata": {
        "id": "2pmRUuP59u8l"
      }
    },
    {
      "cell_type": "markdown",
      "source": [
        "# 3. What are the main differences between lists and tuples in Python?\n",
        "\"Lists can be changed after creation, while tuples cannot be modified once created.\n",
        "Lists use square brackets [] and tuples use parentheses ().\n",
        "Lists are slower but more flexible, whereas tuples are faster and use less memory.\n",
        "Tuples are often used for fixed data, and lists for dynamic data.\""
      ],
      "metadata": {
        "id": "HKcHbr20-IGl"
      }
    },
    {
      "cell_type": "markdown",
      "source": [
        "# 4.Describe how dictionaries store data.\n",
        "\"Dictionaries store data as key-value pairs.\n",
        "Each key is unique and maps to a specific value.\n",
        "They use a hash table internally to allow fast access to values using keys.\n",
        "You can add, update, or remove key-value pairs as needed.\n",
        "\""
      ],
      "metadata": {
        "id": "qxunWoxJ-2-v"
      }
    },
    {
      "cell_type": "markdown",
      "source": [
        "# 5. Why might you use a set instead of a list in Python?\n",
        "\"We use a set when you want to store only unique items without duplicates.\n",
        "Sets are faster than lists for checking if an item exists.\n",
        "They are useful for comparing data, like finding common or different items.\n",
        "Unlike lists, sets do not keep the order of elements.\"\n"
      ],
      "metadata": {
        "id": "aj2eoYmj_HGd"
      }
    },
    {
      "cell_type": "markdown",
      "source": [
        "#6. What is a string in Python, and how is it different from a list?\n",
        "\"A string in Python is a sequence of characters like words or sentences.\n",
        "It is immutable, meaning it cannot be changed after creation.\n",
        "A list is a collection of items that can be changed, and it can hold different data types.\n",
        "Strings only hold characters, while lists can hold numbers, strings, or other lists.\n",
        "\""
      ],
      "metadata": {
        "id": "KrCbpgDL_lRJ"
      }
    },
    {
      "cell_type": "markdown",
      "source": [
        "#7. How do tuples ensure data integrity in Python?\n",
        "\"Tuples ensure data integrity by being immutable, meaning their values cannot be changed after creation.\n",
        "This prevents accidental changes to the data during program execution.\n",
        "They are useful when you want to store fixed data that should stay constant.\n",
        "Because of this, tuples are safer to use for read-only or constant values.\n",
        "\""
      ],
      "metadata": {
        "id": "eg4UK4uU_xrP"
      }
    },
    {
      "cell_type": "markdown",
      "source": [
        "#8. What is a hash table, and how does it relate to dictionaries in Python?\n",
        "\"A hash table is a data structure that stores data using a key and a hash function.\n",
        "It allows quick access to values by converting keys into indexes.\n",
        "In Python, dictionaries use hash tables to store key-value pairs.\n",
        "This makes lookups, insertions, and deletions fast and efficient.\n",
        "\"\n"
      ],
      "metadata": {
        "id": "hDQUfCm__6Up"
      }
    },
    {
      "cell_type": "markdown",
      "source": [
        "#9.  Can lists contain different data types in Python?\n",
        "\"Yes, lists in Python can contain different data types.\n",
        "You can store integers, strings, floats, or even other lists in the same list.\n",
        "This makes lists very flexible for storing mixed data.\n",
        "Each element in the list is treated as an individual object.\n",
        "\""
      ],
      "metadata": {
        "id": "NRSiigLvAFEm"
      }
    },
    {
      "cell_type": "markdown",
      "source": [
        "#10.  Explain why strings are immutable in Python\n",
        "\"Strings are immutable in Python to make them safe and efficient to use.\n",
        "Once a string is created, it cannot be changed, which helps avoid unexpected bugs.\n",
        "It also allows Python to store strings in memory more efficiently.\n",
        "If we need a different string, a new one is created instead of changing the old one.\""
      ],
      "metadata": {
        "id": "BiHnZkOGAL2s"
      }
    },
    {
      "cell_type": "markdown",
      "source": [
        "#11. What advantages do dictionaries offer over lists for certain tasks?\n",
        "\"Dictionaries let us store data using key-value pairs, making it easier to find values using meaningful keys.\n",
        "They offer faster lookups compared to lists, especially for large amounts of data.\n",
        "We can access data directly using a key instead of searching through indexes.\n",
        "This makes dictionaries better for tasks like storing and retrieving user information.\""
      ],
      "metadata": {
        "id": "XQ_vIYp4Aawa"
      }
    },
    {
      "cell_type": "markdown",
      "source": [
        "#12. Describe a scenario where using a tuple would be preferable over a list\n",
        "\"Using a tuple is better when we want to store data that should not change, like coordinates or fixed settings.\n",
        "For example, storing the days of the week in a tuple prevents accidental modifications.\n",
        "Tuples also use less memory and are slightly faster than lists.\n",
        "They are ideal for returning multiple values from a function safely.\""
      ],
      "metadata": {
        "id": "W0Q5M07NApYb"
      }
    },
    {
      "cell_type": "markdown",
      "source": [
        "#13. How do sets handle duplicate values in Python?\n",
        "\"Sets automatically remove duplicate values when we create or update them.\n",
        "If we add the same item more than once, it will appear only once in the set.\n",
        "This helps us keep only unique elements in our data.\n",
        "Sets are useful when we need to eliminate duplicates quickly.\""
      ],
      "metadata": {
        "id": "OH0Sk9L7AzO-"
      }
    },
    {
      "cell_type": "markdown",
      "source": [
        "# 14. How does the “in” keyword work differently for lists and dictionaries?\n",
        "\"In a list, the \"in\" keyword checks if a value exists among the list elements.\n",
        "In a dictionary, \"in\" checks if a key exists, not a value.\n",
        "This means we use it to look for values in lists but for keys in dictionaries.\n",
        "To check for a value in a dictionary, we need to use dictionary.values().\""
      ],
      "metadata": {
        "id": "8jZAU1sYBCbe"
      }
    },
    {
      "cell_type": "markdown",
      "source": [
        "#15. Can you modify the elements of a tuple? Explain why or why not?\n",
        "\"No, we cannot modify the elements of a tuple because tuples are immutable.\n",
        "Once created, their values cannot be changed, added, or removed.\n",
        "This helps protect data from accidental changes.\n",
        "If we need a different set of values, we must create a new tuple.\""
      ],
      "metadata": {
        "id": "uGawr4S2BLMZ"
      }
    },
    {
      "cell_type": "markdown",
      "source": [
        "#16. What is a nested dictionary, and give an example of its use case.\n",
        "\"A nested dictionary is a dictionary that contains another dictionary as a value.\n",
        "It helps us organize related data in a structured way.\n",
        "For example, we can store student information where each student's name maps to another dictionary with their details.\n",
        "This is useful for managing complex data like user profiles or product catalogs.\""
      ],
      "metadata": {
        "id": "m81JJq3pBYGC"
      }
    },
    {
      "cell_type": "markdown",
      "source": [
        "#17. Describe the time complexity of accessing elements in a dictionary\n",
        "\"Accessing elements in a dictionary has an average time complexity of O(1).\n",
        "This means we can retrieve values quickly using their keys, no matter the size of the dictionary.\n",
        "It works fast because dictionaries use a hash table internally.\n",
        "In rare cases of hash collisions, the time may go up, but it’s still efficient.\""
      ],
      "metadata": {
        "id": "QAIRaxlUB2Ba"
      }
    },
    {
      "cell_type": "markdown",
      "source": [
        "# 18.  In what situations are lists preferred over dictionaries?\n",
        "\"Lists are preferred when we need to store items in a specific order.\n",
        "They are useful when we want to access elements by position using indexes.\n",
        "Lists are also better for simple collections of data without named keys.\n",
        "We use them when the relationship between items is based on order, not key-value pairs.\""
      ],
      "metadata": {
        "id": "a-b7S1arCFgL"
      }
    },
    {
      "cell_type": "markdown",
      "source": [
        "# 19. Why are dictionaries considered unordered, and how does that affect data retrieval?\n",
        "\"Dictionaries are considered unordered because they do not store items in a fixed sequence based on how we add them.\n",
        "Instead, they use keys and hash values to organize data for quick access.\n",
        "This means we cannot rely on the order of items when retrieving data.\n",
        "We should always access data by key, not by position.\""
      ],
      "metadata": {
        "id": "YXOtnM5RCWfj"
      }
    },
    {
      "cell_type": "markdown",
      "source": [
        "# 20.  Explain the difference between a list and a dictionary in terms of data retrieval.\n",
        "\"In a list, we retrieve data using an index number that shows the position of the item.\n",
        "In a dictionary, we retrieve data using a key that is linked to a specific value.\n",
        "Lists are better when the order matters, and dictionaries are better for quick lookups.\n",
        "Dictionaries give faster access when we know the key.\""
      ],
      "metadata": {
        "id": "aV0d1YoWChca"
      }
    },
    {
      "cell_type": "markdown",
      "source": [
        "# Practical Questions\n"
      ],
      "metadata": {
        "id": "eRi5z-NpCy0S"
      }
    },
    {
      "cell_type": "markdown",
      "source": [
        "#1. Write a code to create a string with your name and print it"
      ],
      "metadata": {
        "id": "0JBSRmyUC6qd"
      }
    },
    {
      "cell_type": "code",
      "source": [
        "name = \"Rahul Das\"\n",
        "print(name)\n"
      ],
      "metadata": {
        "colab": {
          "base_uri": "https://localhost:8080/"
        },
        "id": "kA3g5ZBkDB36",
        "outputId": "bc021146-69f3-40a0-e84a-868eb75ce0e4"
      },
      "execution_count": 1,
      "outputs": [
        {
          "output_type": "stream",
          "name": "stdout",
          "text": [
            "Rahul Das\n"
          ]
        }
      ]
    },
    {
      "cell_type": "markdown",
      "source": [
        "#2.Write a code to find the length of the string \"Hello World\""
      ],
      "metadata": {
        "id": "3aXsntaGDMmz"
      }
    },
    {
      "cell_type": "code",
      "source": [
        "text = \"Hello World\"\n",
        "print(len(text))\n"
      ],
      "metadata": {
        "colab": {
          "base_uri": "https://localhost:8080/"
        },
        "id": "2D3W_OR0DaB2",
        "outputId": "e8cfff1e-7df0-4295-b1fe-7003aec6e570"
      },
      "execution_count": 2,
      "outputs": [
        {
          "output_type": "stream",
          "name": "stdout",
          "text": [
            "11\n"
          ]
        }
      ]
    },
    {
      "cell_type": "markdown",
      "source": [
        "# 3. Write a code to slice the first 3 characters from the string \"Python Programming\""
      ],
      "metadata": {
        "id": "IBq9i_0mDju9"
      }
    },
    {
      "cell_type": "code",
      "source": [
        "text = \"Python Programming\"\n",
        "print(text[:3])"
      ],
      "metadata": {
        "colab": {
          "base_uri": "https://localhost:8080/"
        },
        "id": "x-NgDmnhDvvw",
        "outputId": "94a73a0e-bc11-4e5f-82e2-65dfa74390a4"
      },
      "execution_count": 3,
      "outputs": [
        {
          "output_type": "stream",
          "name": "stdout",
          "text": [
            "Pyt\n"
          ]
        }
      ]
    },
    {
      "cell_type": "markdown",
      "source": [
        "#4. Write a code to convert the string \"hello\" to uppercase\n"
      ],
      "metadata": {
        "id": "FiJcbFMxD9tE"
      }
    },
    {
      "cell_type": "code",
      "source": [
        "text = \"hello\"\n",
        "print(text.upper())"
      ],
      "metadata": {
        "colab": {
          "base_uri": "https://localhost:8080/"
        },
        "id": "Bucpl0J2EDY_",
        "outputId": "3d2757df-2326-4b3f-8b62-69bea7df6339"
      },
      "execution_count": 4,
      "outputs": [
        {
          "output_type": "stream",
          "name": "stdout",
          "text": [
            "HELLO\n"
          ]
        }
      ]
    },
    {
      "cell_type": "markdown",
      "source": [
        "# 5. Write a code to replace the word \"apple\" with \"orange\" in the string \"I like apple\""
      ],
      "metadata": {
        "id": "Sf77yBM5EKUD"
      }
    },
    {
      "cell_type": "code",
      "source": [
        "text = \"I like apple\"\n",
        "new_text = text.replace(\"apple\", \"orange\")\n",
        "print(new_text)"
      ],
      "metadata": {
        "colab": {
          "base_uri": "https://localhost:8080/"
        },
        "id": "ooPRudcMEOqT",
        "outputId": "a3b061b9-22ea-4e16-fca6-099a520c1a44"
      },
      "execution_count": 5,
      "outputs": [
        {
          "output_type": "stream",
          "name": "stdout",
          "text": [
            "I like orange\n"
          ]
        }
      ]
    },
    {
      "cell_type": "markdown",
      "source": [
        "# 6. Write a code to create a list with numbers 1 to 5 and print it"
      ],
      "metadata": {
        "id": "BxzbE4bBEVIN"
      }
    },
    {
      "cell_type": "code",
      "source": [
        "numbers = [1, 2, 3, 4, 5]\n",
        "print(numbers)"
      ],
      "metadata": {
        "colab": {
          "base_uri": "https://localhost:8080/"
        },
        "id": "G1qiiIvtEcKh",
        "outputId": "0103555e-9691-4b5e-f730-ea0c4a8a44a9"
      },
      "execution_count": 6,
      "outputs": [
        {
          "output_type": "stream",
          "name": "stdout",
          "text": [
            "[1, 2, 3, 4, 5]\n"
          ]
        }
      ]
    },
    {
      "cell_type": "markdown",
      "source": [
        "# 7. Write a code to append the number 10 to the list [1, 2, 3, 4]\n"
      ],
      "metadata": {
        "id": "jKzEWSlREirn"
      }
    },
    {
      "cell_type": "code",
      "source": [
        "numbers = [1, 2, 3, 4]\n",
        "numbers.append(10)\n",
        "print(numbers)"
      ],
      "metadata": {
        "colab": {
          "base_uri": "https://localhost:8080/"
        },
        "id": "2LurTG-TEnEs",
        "outputId": "6f8d8023-58e8-4798-db6f-f0224355303a"
      },
      "execution_count": 7,
      "outputs": [
        {
          "output_type": "stream",
          "name": "stdout",
          "text": [
            "[1, 2, 3, 4, 10]\n"
          ]
        }
      ]
    },
    {
      "cell_type": "markdown",
      "source": [
        "# 8. Write a code to remove the number 3 from the list [1, 2, 3, 4, 5]"
      ],
      "metadata": {
        "id": "40NUTfZcEwv6"
      }
    },
    {
      "cell_type": "code",
      "source": [
        "numbers = [1, 2, 3, 4, 5]\n",
        "numbers.remove(3)\n",
        "print(numbers)"
      ],
      "metadata": {
        "colab": {
          "base_uri": "https://localhost:8080/"
        },
        "id": "2pfaaeSEE2S8",
        "outputId": "0867ab08-4a06-467d-c77a-08b6c671a097"
      },
      "execution_count": 8,
      "outputs": [
        {
          "output_type": "stream",
          "name": "stdout",
          "text": [
            "[1, 2, 4, 5]\n"
          ]
        }
      ]
    },
    {
      "cell_type": "markdown",
      "source": [
        "# 9.  Write a code to access the second element in the list ['a', 'b', 'c', 'd']"
      ],
      "metadata": {
        "id": "VymOZsoOE-DB"
      }
    },
    {
      "cell_type": "code",
      "source": [
        "letters = ['a', 'b', 'c', 'd']\n",
        "print(letters[1])"
      ],
      "metadata": {
        "colab": {
          "base_uri": "https://localhost:8080/"
        },
        "id": "PCA68219FHDS",
        "outputId": "ffa09b43-bdfc-4c7e-e7e6-f308f1703067"
      },
      "execution_count": 9,
      "outputs": [
        {
          "output_type": "stream",
          "name": "stdout",
          "text": [
            "b\n"
          ]
        }
      ]
    },
    {
      "cell_type": "markdown",
      "source": [
        "#10. Write a code to reverse the list [10, 20, 30, 40, 50]"
      ],
      "metadata": {
        "id": "uxjQeGqlFNyl"
      }
    },
    {
      "cell_type": "code",
      "source": [
        "numbers = [10, 20, 30, 40, 50]\n",
        "numbers.reverse()\n",
        "print(numbers)\n"
      ],
      "metadata": {
        "colab": {
          "base_uri": "https://localhost:8080/"
        },
        "id": "aUQ1pArZFSdf",
        "outputId": "2d718065-3bd4-47e2-9d67-1764e3803ec3"
      },
      "execution_count": 10,
      "outputs": [
        {
          "output_type": "stream",
          "name": "stdout",
          "text": [
            "[50, 40, 30, 20, 10]\n"
          ]
        }
      ]
    },
    {
      "cell_type": "markdown",
      "source": [
        "#11. Write a code to create a tuple with the elements 100, 200, 300 and print it"
      ],
      "metadata": {
        "id": "E3v5gMUdFW3S"
      }
    },
    {
      "cell_type": "code",
      "source": [
        "my_tuple = (100, 200, 300)\n",
        "print(my_tuple)\n"
      ],
      "metadata": {
        "colab": {
          "base_uri": "https://localhost:8080/"
        },
        "id": "dZDV_PrkFd94",
        "outputId": "c697e359-20f3-406c-ca0f-8c5ccc59a2f0"
      },
      "execution_count": 11,
      "outputs": [
        {
          "output_type": "stream",
          "name": "stdout",
          "text": [
            "(100, 200, 300)\n"
          ]
        }
      ]
    },
    {
      "cell_type": "markdown",
      "source": [
        "# 12.  Write a code to access the second-to-last element of the tuple ('red', 'green', 'blue', 'yellow')"
      ],
      "metadata": {
        "id": "SMUc-oVCFj95"
      }
    },
    {
      "cell_type": "code",
      "source": [
        "colors = ('red', 'green', 'blue', 'yellow')\n",
        "print(colors[-2])\n"
      ],
      "metadata": {
        "colab": {
          "base_uri": "https://localhost:8080/"
        },
        "id": "6lfV3njHFn4U",
        "outputId": "b06894cc-2ff1-4a79-89cd-b560bc3ae7cd"
      },
      "execution_count": 12,
      "outputs": [
        {
          "output_type": "stream",
          "name": "stdout",
          "text": [
            "blue\n"
          ]
        }
      ]
    },
    {
      "cell_type": "markdown",
      "source": [
        "# 13. Write a code to find the minimum number in the tuple (10, 20, 5, 15)"
      ],
      "metadata": {
        "id": "O9KzOdjJGMeZ"
      }
    },
    {
      "cell_type": "code",
      "source": [
        "numbers = (10, 20, 5, 15)\n",
        "print(min(numbers))\n"
      ],
      "metadata": {
        "colab": {
          "base_uri": "https://localhost:8080/"
        },
        "id": "hujB0QrAGQu9",
        "outputId": "9f3289ce-8148-4ae2-df64-5985b11692fa"
      },
      "execution_count": 13,
      "outputs": [
        {
          "output_type": "stream",
          "name": "stdout",
          "text": [
            "5\n"
          ]
        }
      ]
    },
    {
      "cell_type": "markdown",
      "source": [
        "# 14.  Write a code to find the index of the element \"cat\" in the tuple ('dog', 'cat', 'rabbit')"
      ],
      "metadata": {
        "id": "jMOG7Nu-GVws"
      }
    },
    {
      "cell_type": "code",
      "source": [
        "animals = ('dog', 'cat', 'rabbit')\n",
        "print(animals.index('cat'))\n"
      ],
      "metadata": {
        "colab": {
          "base_uri": "https://localhost:8080/"
        },
        "id": "hsebH0GiGZa1",
        "outputId": "e9c79f0a-a854-400e-cb10-f0a3ab427059"
      },
      "execution_count": 14,
      "outputs": [
        {
          "output_type": "stream",
          "name": "stdout",
          "text": [
            "1\n"
          ]
        }
      ]
    },
    {
      "cell_type": "markdown",
      "source": [
        "# 15. Write a code to create a tuple containing three different fruits and check if \"kiwi\" is in it"
      ],
      "metadata": {
        "id": "ilLni1XAGeqi"
      }
    },
    {
      "cell_type": "code",
      "source": [
        "fruits = ('apple', 'banana', 'mango')\n",
        "print('kiwi' in fruits)\n"
      ],
      "metadata": {
        "colab": {
          "base_uri": "https://localhost:8080/"
        },
        "id": "176ZAgkvGjrG",
        "outputId": "e0b4237a-5603-45b1-8492-65a798c02fd6"
      },
      "execution_count": 15,
      "outputs": [
        {
          "output_type": "stream",
          "name": "stdout",
          "text": [
            "False\n"
          ]
        }
      ]
    },
    {
      "cell_type": "markdown",
      "source": [
        "# 16.  Write a code to create a set with the elements 'a', 'b', 'c' and print it"
      ],
      "metadata": {
        "id": "zkYXtneMGpm7"
      }
    },
    {
      "cell_type": "code",
      "source": [
        "my_set = {'a', 'b', 'c'}\n",
        "print(my_set)\n"
      ],
      "metadata": {
        "colab": {
          "base_uri": "https://localhost:8080/"
        },
        "id": "e5Eg7Pm9GtkG",
        "outputId": "fa462f01-6bef-495e-ee20-1f23d175f6cf"
      },
      "execution_count": 16,
      "outputs": [
        {
          "output_type": "stream",
          "name": "stdout",
          "text": [
            "{'a', 'c', 'b'}\n"
          ]
        }
      ]
    },
    {
      "cell_type": "markdown",
      "source": [
        "# 17. Write a code to clear all elements from the set {1, 2, 3, 4, 5}"
      ],
      "metadata": {
        "id": "iAaozyloGy8Y"
      }
    },
    {
      "cell_type": "code",
      "source": [
        "my_set = {1, 2, 3, 4, 5}\n",
        "my_set.clear()\n",
        "print(my_set)\n"
      ],
      "metadata": {
        "colab": {
          "base_uri": "https://localhost:8080/"
        },
        "id": "uS7DHxQaG4F3",
        "outputId": "6eed6339-8546-4b21-e558-d3c3e70798cb"
      },
      "execution_count": 17,
      "outputs": [
        {
          "output_type": "stream",
          "name": "stdout",
          "text": [
            "set()\n"
          ]
        }
      ]
    },
    {
      "cell_type": "markdown",
      "source": [
        "#18.  Write a code to remove the element 4 from the set {1, 2, 3, 4}"
      ],
      "metadata": {
        "id": "kMsTuySxG89U"
      }
    },
    {
      "cell_type": "code",
      "source": [
        "my_set = {1, 2, 3, 4}\n",
        "my_set.remove(4)\n",
        "print(my_set)\n"
      ],
      "metadata": {
        "colab": {
          "base_uri": "https://localhost:8080/"
        },
        "id": "2XHl5AL0IBQl",
        "outputId": "a8d620a2-cc53-46f9-cf70-e1e2f8df156d"
      },
      "execution_count": 18,
      "outputs": [
        {
          "output_type": "stream",
          "name": "stdout",
          "text": [
            "{1, 2, 3}\n"
          ]
        }
      ]
    },
    {
      "cell_type": "markdown",
      "source": [
        "#19.  Write a code to find the union of two sets {1, 2, 3} and {3, 4, 5}"
      ],
      "metadata": {
        "id": "yrSzHPGLIGZt"
      }
    },
    {
      "cell_type": "code",
      "source": [
        "set1 = {1, 2, 3}\n",
        "set2 = {3, 4, 5}\n",
        "union_set = set1.union(set2)\n",
        "print(union_set)\n"
      ],
      "metadata": {
        "colab": {
          "base_uri": "https://localhost:8080/"
        },
        "id": "tKVxm0UGIN8t",
        "outputId": "1824d49e-1a28-4d06-95b3-7fd7d7730ecc"
      },
      "execution_count": 19,
      "outputs": [
        {
          "output_type": "stream",
          "name": "stdout",
          "text": [
            "{1, 2, 3, 4, 5}\n"
          ]
        }
      ]
    },
    {
      "cell_type": "markdown",
      "source": [
        "#20. Write a code to find the intersection of two sets {1, 2, 3} and {2, 3, 4}"
      ],
      "metadata": {
        "id": "IAcWFW58IT7P"
      }
    },
    {
      "cell_type": "code",
      "source": [
        "set1 = {1, 2, 3}\n",
        "set2 = {2, 3, 4}\n",
        "intersection_set = set1.intersection(set2)\n",
        "print(intersection_set)\n"
      ],
      "metadata": {
        "colab": {
          "base_uri": "https://localhost:8080/"
        },
        "id": "HqENvV9IIYsV",
        "outputId": "cd7b2cd0-79a3-49df-9d2e-076fb4eb6e70"
      },
      "execution_count": 20,
      "outputs": [
        {
          "output_type": "stream",
          "name": "stdout",
          "text": [
            "{2, 3}\n"
          ]
        }
      ]
    },
    {
      "cell_type": "markdown",
      "source": [
        "# 21. Write a code to create a dictionary with the keys \"name\", \"age\", and \"city\", and print it."
      ],
      "metadata": {
        "id": "cH2-s7dyIdQp"
      }
    },
    {
      "cell_type": "code",
      "source": [
        "person = {\"name\": \"Rahul\", \"age\": 25, \"city\": \"Delhi\"}\n",
        "print(person)\n"
      ],
      "metadata": {
        "colab": {
          "base_uri": "https://localhost:8080/"
        },
        "id": "aNAsjorUIkfN",
        "outputId": "4fd6e5d8-f0bd-47f6-affb-0cb607021ab8"
      },
      "execution_count": 21,
      "outputs": [
        {
          "output_type": "stream",
          "name": "stdout",
          "text": [
            "{'name': 'Rahul', 'age': 25, 'city': 'Delhi'}\n"
          ]
        }
      ]
    },
    {
      "cell_type": "markdown",
      "source": [
        "#22.  Write a code to add a new key-value pair \"country\": \"USA\" to the dictionary {'name': 'John', 'age': 25}"
      ],
      "metadata": {
        "id": "p0Rq5CdfIspv"
      }
    },
    {
      "cell_type": "code",
      "source": [
        "person = {'name': 'John', 'age': 25}\n",
        "person['country'] = 'USA'\n",
        "print(person)\n"
      ],
      "metadata": {
        "colab": {
          "base_uri": "https://localhost:8080/"
        },
        "id": "HEMxpGshIxAs",
        "outputId": "8877e8de-e7c9-4bed-a89a-42a6a7c65f20"
      },
      "execution_count": 22,
      "outputs": [
        {
          "output_type": "stream",
          "name": "stdout",
          "text": [
            "{'name': 'John', 'age': 25, 'country': 'USA'}\n"
          ]
        }
      ]
    },
    {
      "cell_type": "markdown",
      "source": [
        "# 23. Write a code to access the value associated with the key \"name\" in the dictionary {'name': 'Alice', 'age': 30}"
      ],
      "metadata": {
        "id": "OKbH0qDAI9Fd"
      }
    },
    {
      "cell_type": "code",
      "source": [
        "person = {'name': 'Alice', 'age': 30}\n",
        "print(person['name'])\n"
      ],
      "metadata": {
        "colab": {
          "base_uri": "https://localhost:8080/"
        },
        "id": "3Z4TGBqOJDXE",
        "outputId": "c48b0217-2d43-45f4-a341-d7b7f9264bb6"
      },
      "execution_count": 23,
      "outputs": [
        {
          "output_type": "stream",
          "name": "stdout",
          "text": [
            "Alice\n"
          ]
        }
      ]
    },
    {
      "cell_type": "markdown",
      "source": [
        "# 24. Write a code to remove the key \"age\" from the dictionary {'name': 'Bob', 'age': 22, 'city': 'New York'}"
      ],
      "metadata": {
        "id": "eIwVJadYJNml"
      }
    },
    {
      "cell_type": "code",
      "source": [
        "person = {'name': 'Bob', 'age': 22, 'city': 'New York'}\n",
        "person.pop('age')\n",
        "print(person)\n"
      ],
      "metadata": {
        "colab": {
          "base_uri": "https://localhost:8080/"
        },
        "id": "jTjL70rEJTTo",
        "outputId": "e0d9a04b-523c-490e-8841-45e82af03f40"
      },
      "execution_count": 24,
      "outputs": [
        {
          "output_type": "stream",
          "name": "stdout",
          "text": [
            "{'name': 'Bob', 'city': 'New York'}\n"
          ]
        }
      ]
    },
    {
      "cell_type": "markdown",
      "source": [
        "# 25. Write a code to check if the key \"city\" exists in the dictionary {'name': 'Alice', 'city': 'Paris'}"
      ],
      "metadata": {
        "id": "mBL6bugbJa-B"
      }
    },
    {
      "cell_type": "code",
      "source": [
        "person = {'name': 'Alice', 'city': 'Paris'}\n",
        "print('city' in person)\n"
      ],
      "metadata": {
        "colab": {
          "base_uri": "https://localhost:8080/"
        },
        "id": "gdbWl6B4JiQn",
        "outputId": "b0d2120f-a9c3-43cd-b13a-b517cf7357b3"
      },
      "execution_count": 25,
      "outputs": [
        {
          "output_type": "stream",
          "name": "stdout",
          "text": [
            "True\n"
          ]
        }
      ]
    },
    {
      "cell_type": "markdown",
      "source": [
        "#26. Write a code to create a list, a tuple, and a dictionary, and print them all"
      ],
      "metadata": {
        "id": "FvLDUPSyKNmq"
      }
    },
    {
      "cell_type": "code",
      "source": [
        "my_list = [1, 2, 3]\n",
        "my_tuple = (4, 5, 6)\n",
        "my_dict = {'a': 7, 'b': 8, 'c': 9}\n",
        "\n",
        "print(my_list)\n",
        "print(my_tuple)\n",
        "print(my_dict)\n"
      ],
      "metadata": {
        "colab": {
          "base_uri": "https://localhost:8080/"
        },
        "id": "iGJ7lTiIKS9Y",
        "outputId": "0ee26ccd-f571-4e6f-b86d-fd3b45e724a4"
      },
      "execution_count": 26,
      "outputs": [
        {
          "output_type": "stream",
          "name": "stdout",
          "text": [
            "[1, 2, 3]\n",
            "(4, 5, 6)\n",
            "{'a': 7, 'b': 8, 'c': 9}\n"
          ]
        }
      ]
    },
    {
      "cell_type": "markdown",
      "source": [
        "# 27. Write a code to create a list of 5 random numbers between 1 and 100, sort it in ascending order, and print the result.\n",
        "\n"
      ],
      "metadata": {
        "id": "jfooTao_KaX5"
      }
    },
    {
      "cell_type": "code",
      "source": [
        "import random\n",
        "\n",
        "numbers = [random.randint(1, 100) for _ in range(5)]\n",
        "numbers.sort()\n",
        "print(numbers)\n"
      ],
      "metadata": {
        "colab": {
          "base_uri": "https://localhost:8080/"
        },
        "id": "0nzO88eBKswx",
        "outputId": "f4ca81ac-0511-4c96-c2a0-71d4f135af88"
      },
      "execution_count": 27,
      "outputs": [
        {
          "output_type": "stream",
          "name": "stdout",
          "text": [
            "[4, 8, 16, 62, 86]\n"
          ]
        }
      ]
    },
    {
      "cell_type": "markdown",
      "source": [
        "#28. Write a code to create a list with strings and print the element at the third index"
      ],
      "metadata": {
        "id": "SGY-q3jEKyFf"
      }
    },
    {
      "cell_type": "code",
      "source": [
        "words = [\"apple\", \"banana\", \"cherry\", \"date\", \"berry\"]\n",
        "print(words[3])\n"
      ],
      "metadata": {
        "colab": {
          "base_uri": "https://localhost:8080/"
        },
        "id": "gWDIJuEDK8dI",
        "outputId": "68e1889a-d9b5-4a53-d835-a17cb4aa795e"
      },
      "execution_count": 29,
      "outputs": [
        {
          "output_type": "stream",
          "name": "stdout",
          "text": [
            "date\n"
          ]
        }
      ]
    },
    {
      "cell_type": "markdown",
      "source": [
        "# 29. Write a code to combine two dictionaries into one and print the result"
      ],
      "metadata": {
        "id": "z6zx_nWSLHtq"
      }
    },
    {
      "cell_type": "code",
      "source": [
        "dict1 = {'a': 1, 'b': 2}\n",
        "dict2 = {'c': 3, 'd': 4}\n",
        "dict1.update(dict2)\n",
        "print(dict1)\n"
      ],
      "metadata": {
        "colab": {
          "base_uri": "https://localhost:8080/"
        },
        "id": "DVepe0EBLL2E",
        "outputId": "7ee6b96c-970e-4012-cfb8-0bbf806bee09"
      },
      "execution_count": 31,
      "outputs": [
        {
          "output_type": "stream",
          "name": "stdout",
          "text": [
            "{'a': 1, 'b': 2, 'c': 3, 'd': 4}\n"
          ]
        }
      ]
    },
    {
      "cell_type": "markdown",
      "source": [
        "# 30.  Write a code to convert a list of strings into a set"
      ],
      "metadata": {
        "id": "wV_KC6jsLtxF"
      }
    },
    {
      "cell_type": "code",
      "source": [
        "words = ['apple', 'banana', 'cherry']\n",
        "words_set = set(words)\n",
        "print(words_set)\n"
      ],
      "metadata": {
        "colab": {
          "base_uri": "https://localhost:8080/"
        },
        "id": "OBVjt3z_Lyyh",
        "outputId": "60369e8e-7b82-4aff-9107-27914a3ea766"
      },
      "execution_count": 32,
      "outputs": [
        {
          "output_type": "stream",
          "name": "stdout",
          "text": [
            "{'banana', 'apple', 'cherry'}\n"
          ]
        }
      ]
    }
  ]
}